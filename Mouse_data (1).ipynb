{
 "cells": [
  {
   "cell_type": "code",
   "execution_count": 1,
   "id": "3b1ce7d6-f725-4192-b708-16e88c386a6d",
   "metadata": {},
   "outputs": [],
   "source": [
    "import pathlib"
   ]
  },
  {
   "cell_type": "code",
   "execution_count": 7,
   "id": "e5f6c833-3e77-4f15-8f21-0079fdf28d9a",
   "metadata": {},
   "outputs": [],
   "source": [
    "path = pathlib.Path(\"/Users/ainsleymartinez/Downloads/alldata/\")"
   ]
  },
  {
   "cell_type": "code",
   "execution_count": 8,
   "id": "fa853fb5-ba31-44c5-9ccc-4a37bdaee317",
   "metadata": {},
   "outputs": [
    {
     "data": {
      "text/plain": [
       "[]"
      ]
     },
     "execution_count": 8,
     "metadata": {},
     "output_type": "execute_result"
    }
   ],
   "source": [
    "list(path.glob(\"*.csv\"))"
   ]
  },
  {
   "cell_type": "code",
   "execution_count": 9,
   "id": "86169a7f-e5a4-4b64-a8cf-9a890510e243",
   "metadata": {},
   "outputs": [
    {
     "name": "stdout",
     "output_type": "stream",
     "text": [
      "   ParticipantId  ExperimentId  IsCrowdsourced  IsOnline  Age  Gender  \\\n",
      "0            246           316               1         1   47    male   \n",
      "1            249           319               1         1   26  female   \n",
      "2            250           320               1         1   28  female   \n",
      "3            252           322               1         1   22  female   \n",
      "4            253           323               1         1   46    male   \n",
      "\n",
      "  Handedness  SelfReportMotorImpairment MotorDifficultyRapidFatigue  \\\n",
      "0      right                          0                         NaN   \n",
      "1      right                          0                        True   \n",
      "2      right                          0                         NaN   \n",
      "3      right                          0                         NaN   \n",
      "4      right                          0                         NaN   \n",
      "\n",
      "  MotorDifficultyLackOfCoordination  ...  \\\n",
      "0                               NaN  ...   \n",
      "1                               NaN  ...   \n",
      "2                               NaN  ...   \n",
      "3                               NaN  ...   \n",
      "4                               NaN  ...   \n",
      "\n",
      "  SelfReportPointingDeviceOtherSpecified SelfReportInputDeviceDifficulty  \\\n",
      "0                                    NaN                             NaN   \n",
      "1                                    NaN                             NaN   \n",
      "2                                    NaN                             1.0   \n",
      "3                                    NaN                             3.0   \n",
      "4                                    NaN                             1.0   \n",
      "\n",
      "  SelfReportPreferredDeviceOtherSpecified SelfReportAccessibilityFeatures  \\\n",
      "0                                     NaN                               0   \n",
      "1                                     NaN                               0   \n",
      "2                                     NaN                               0   \n",
      "3                             Wired Mouse                               0   \n",
      "4                                     NaN                               0   \n",
      "\n",
      "  SelfReportAccessibilityFeaturesSpecified SelfReportExtraPointingDevice  \\\n",
      "0                                      NaN                             0   \n",
      "1                                      NaN                             0   \n",
      "2                                      NaN                             0   \n",
      "3                                      NaN                             0   \n",
      "4                                      NaN                             0   \n",
      "\n",
      "  SelfReportExtraPointingDeviceSpecified SelfReportTouchscreenDifficulty  \\\n",
      "0                                    NaN                             2.0   \n",
      "1                                    NaN                             2.0   \n",
      "2                                    NaN                             NaN   \n",
      "3                                    NaN                             NaN   \n",
      "4                                    NaN                             NaN   \n",
      "\n",
      "  IPadSize DeviceType  \n",
      "0      NaN      TOUCH  \n",
      "1      NaN      TOUCH  \n",
      "2      NaN    DESKTOP  \n",
      "3      NaN    DESKTOP  \n",
      "4      NaN    DESKTOP  \n",
      "\n",
      "[5 rows x 37 columns]\n",
      "   Age  Gender\n",
      "0   47    male\n",
      "1   26  female\n",
      "2   28  female\n",
      "3   22  female\n",
      "4   46    male\n",
      "              Age\n",
      "Gender           \n",
      "female  41.546638\n",
      "male    37.006250\n",
      "other   30.000000\n"
     ]
    }
   ],
   "source": [
    "import pandas as pd\n",
    "\n",
    "file_path = '/Users/ainsleymartinez/Downloads/ParticipantQuestionnaireData N=735.csv'\n",
    "data = pd.read_csv(file_path)\n",
    "\n",
    "\n",
    "print(data.head())\n",
    "\n",
    "age_gender_data = data[['Age', 'Gender']]\n",
    "\n",
    "\n",
    "print(age_gender_data.head())\n",
    "\n",
    "def match_participants(data):\n",
    "  \n",
    "    grouped_data = data.groupby('Gender').mean()\n",
    "    return grouped_data\n",
    "\n",
    "matched_data = match_participants(age_gender_data)\n",
    "print(matched_data)\n"
   ]
  },
  {
   "cell_type": "code",
   "execution_count": 15,
   "id": "a2b6a5e2-7405-4829-8ff3-ee8878fb7475",
   "metadata": {},
   "outputs": [
    {
     "name": "stdout",
     "output_type": "stream",
     "text": [
      "UserIDs associated with age 46 and gender female: [784, 2258, 2335, 2699]\n"
     ]
    }
   ],
   "source": [
    "file_path = '/Users/ainsleymartinez/Downloads/ParticipantQuestionnaireData N=735.csv'\n",
    "df = pd.read_csv(file_path)\n",
    "desired_age = 46\n",
    "desired_gender = 'female'\n",
    "matches = df[(df['Age'] == desired_age) & (df['Gender'] == desired_gender)]\n",
    "\n",
    "# Extract UserIDs associated with the matches\n",
    "matched_userids = matches['ParticipantId'].tolist()\n",
    "\n",
    "# Print the matched UserIDs\n",
    "print(\"UserIDs associated with age {} and gender {}: {}\".format(desired_age, desired_gender, matched_userids))\n"
   ]
  },
  {
   "cell_type": "code",
   "execution_count": 19,
   "id": "5a8520e4-5fa2-4f3f-8d4c-678a239a36e2",
   "metadata": {},
   "outputs": [
    {
     "name": "stdout",
     "output_type": "stream",
     "text": [
      "Index(['ParticipantId', 'ExperimentId', 'IsCrowdsourced', 'IsOnline', 'Age',\n",
      "       'Gender', 'Handedness', 'SelfReportMotorImpairment',\n",
      "       'MotorDifficultyRapidFatigue', 'MotorDifficultyLackOfCoordination',\n",
      "       'MotorDifficultyLowStrength', 'MotorDifficultySlowMovements',\n",
      "       'MotorRangeOfMotion', 'MotorDifficultyGripping',\n",
      "       'MotorDifficultyHolding', 'MotorDifficultyTremor',\n",
      "       'MotorDifficultySpasm', 'MotorDifficultyMovementDirection',\n",
      "       'MotorDifficultyMovementDistance', 'MotorDifficultyLackOfSensation',\n",
      "       'MotorDifficultyOther', 'VisionDifficultyLowVision',\n",
      "       'VisionDifficultyColor', 'VisionDifficultyOther', 'SelfReportComputer',\n",
      "       'SelfReportComputerOtherSpecified', 'SelfReportPointingDevice',\n",
      "       'SelfReportPointingDeviceOtherSpecified',\n",
      "       'SelfReportInputDeviceDifficulty',\n",
      "       'SelfReportPreferredDeviceOtherSpecified',\n",
      "       'SelfReportAccessibilityFeatures',\n",
      "       'SelfReportAccessibilityFeaturesSpecified',\n",
      "       'SelfReportExtraPointingDevice',\n",
      "       'SelfReportExtraPointingDeviceSpecified',\n",
      "       'SelfReportTouchscreenDifficulty', 'IPadSize', 'DeviceType'],\n",
      "      dtype='object')\n",
      "Randomly selected ParticipantIDs with SelfReportMotorImpairment = 1:\n",
      "[1496 1939 1219 1906 1613  264 2477 1558  983 1250]\n"
     ]
    }
   ],
   "source": [
    "import pandas as pd\n",
    "import numpy as np\n",
    "\n",
    "# Load the CSV file into a pandas DataFrame\n",
    "file_path = '/Users/ainsleymartinez/Downloads/ParticipantQuestionnaireData N=735.csv'\n",
    "data = pd.read_csv(file_path)\n",
    "\n",
    "# Print out the columns of the DataFrame to verify names\n",
    "print(data.columns)\n",
    "\n",
    "# Example: If the actual column name is different, adjust accordingly\n",
    "# For example, if the column is named 'ID' instead of 'ParticipantID':\n",
    "# selected_participant_ids = np.random.choice(impairment_participants['ID'], size=10, replace=False)\n",
    "\n",
    "# Filter rows where SelfReportMotorImpairment is 1\n",
    "impairment_participants = data[data['SelfReportMotorImpairment'] == 1]\n",
    "\n",
    "# Randomly choose 10 ParticipantIDs if 'ParticipantID' exists\n",
    "if 'ParticipantId' in impairment_participants.columns:\n",
    "    selected_participant_ids = np.random.choice(impairment_participants['ParticipantId'], size=10, replace=False)\n",
    "    print(\"Randomly selected ParticipantIDs with SelfReportMotorImpairment = 1:\")\n",
    "    print(selected_participant_ids)\n",
    "else:\n",
    "    print(\"ParticipantID column not found in the DataFrame.\")\n"
   ]
  },
  {
   "cell_type": "code",
   "execution_count": 20,
   "id": "2cb30d0b-4cb0-4177-9e32-ae12307e1e71",
   "metadata": {},
   "outputs": [
    {
     "name": "stdout",
     "output_type": "stream",
     "text": [
      "Index(['ParticipantId', 'ExperimentId', 'IsCrowdsourced', 'IsOnline', 'Age',\n",
      "       'Gender', 'Handedness', 'SelfReportMotorImpairment',\n",
      "       'MotorDifficultyRapidFatigue', 'MotorDifficultyLackOfCoordination',\n",
      "       'MotorDifficultyLowStrength', 'MotorDifficultySlowMovements',\n",
      "       'MotorRangeOfMotion', 'MotorDifficultyGripping',\n",
      "       'MotorDifficultyHolding', 'MotorDifficultyTremor',\n",
      "       'MotorDifficultySpasm', 'MotorDifficultyMovementDirection',\n",
      "       'MotorDifficultyMovementDistance', 'MotorDifficultyLackOfSensation',\n",
      "       'MotorDifficultyOther', 'VisionDifficultyLowVision',\n",
      "       'VisionDifficultyColor', 'VisionDifficultyOther', 'SelfReportComputer',\n",
      "       'SelfReportComputerOtherSpecified', 'SelfReportPointingDevice',\n",
      "       'SelfReportPointingDeviceOtherSpecified',\n",
      "       'SelfReportInputDeviceDifficulty',\n",
      "       'SelfReportPreferredDeviceOtherSpecified',\n",
      "       'SelfReportAccessibilityFeatures',\n",
      "       'SelfReportAccessibilityFeaturesSpecified',\n",
      "       'SelfReportExtraPointingDevice',\n",
      "       'SelfReportExtraPointingDeviceSpecified',\n",
      "       'SelfReportTouchscreenDifficulty', 'IPadSize', 'DeviceType'],\n",
      "      dtype='object')\n",
      "Randomly selected ParticipantIDs with SelfReportMotorImpairment = 0:\n",
      "[2657  521  299  515 2152  658  296  528 2061 2077]\n"
     ]
    }
   ],
   "source": [
    "import pandas as pd\n",
    "import numpy as np\n",
    "\n",
    "# Load the CSV file into a pandas DataFrame\n",
    "file_path = '/Users/ainsleymartinez/Downloads/ParticipantQuestionnaireData N=735.csv'\n",
    "data = pd.read_csv(file_path)\n",
    "\n",
    "# Print out the columns of the DataFrame to verify names\n",
    "print(data.columns)\n",
    "\n",
    "# Example: If the actual column name is different, adjust accordingly\n",
    "# For example, if the column is named 'ID' instead of 'ParticipantID':\n",
    "# selected_participant_ids = np.random.choice(impairment_participants['ID'], size=10, replace=False)\n",
    "\n",
    "# Filter rows where SelfReportMotorImpairment is 1\n",
    "impairment_participants = data[data['SelfReportMotorImpairment'] == 0]\n",
    "\n",
    "# Randomly choose 10 ParticipantIDs if 'ParticipantID' exists\n",
    "if 'ParticipantId' in impairment_participants.columns:\n",
    "    selected_participant_ids = np.random.choice(impairment_participants['ParticipantId'], size=10, replace=False)\n",
    "    print(\"Randomly selected ParticipantIDs with SelfReportMotorImpairment = 0:\")\n",
    "    print(selected_participant_ids)\n",
    "else:\n",
    "    print(\"ParticipantID column not found in the DataFrame.\")\n",
    "startTime\":1447707767566,\"endTime\":1447707768852,"
   ]
  },
  {
   "cell_type": "code",
   "execution_count": 31,
   "id": "2044ee5f-a393-4659-95fd-9c9cdd9b56ff",
   "metadata": {},
   "outputs": [],
   "source": [
    "file_path = '/Users/ainsleymartinez/Downloads/alldata/userid521/using.json'\n",
    "a1 = pd.read_csv(file_path)"
   ]
  },
  {
   "cell_type": "code",
   "execution_count": 25,
   "id": "6760d398-0d2e-4747-abfd-d43104b182c8",
   "metadata": {},
   "outputs": [
    {
     "data": {
      "text/html": [
       "<div>\n",
       "<style scoped>\n",
       "    .dataframe tbody tr th:only-of-type {\n",
       "        vertical-align: middle;\n",
       "    }\n",
       "\n",
       "    .dataframe tbody tr th {\n",
       "        vertical-align: top;\n",
       "    }\n",
       "\n",
       "    .dataframe thead th {\n",
       "        text-align: right;\n",
       "    }\n",
       "</style>\n",
       "<table border=\"1\" class=\"dataframe\">\n",
       "  <thead>\n",
       "    <tr style=\"text-align: right;\">\n",
       "      <th></th>\n",
       "      <th>{\"taskName\":\"Pointing\"</th>\n",
       "      <th>blockIndex:0</th>\n",
       "      <th>skipped:false</th>\n",
       "      <th>practice:false</th>\n",
       "      <th>startTime:1447707762272</th>\n",
       "      <th>endTime:1447707804683</th>\n",
       "      <th>numTrialsWithError:2</th>\n",
       "      <th>trials:[{\"index\":0</th>\n",
       "      <th>startTime:1447707762254</th>\n",
       "      <th>endTime:1447707763924</th>\n",
       "      <th>...</th>\n",
       "      <th>windowScreenY:0</th>\n",
       "      <th>windowInnerWidth:768</th>\n",
       "      <th>windowInnerHeight:960</th>\n",
       "      <th>windowOuterWidth:0</th>\n",
       "      <th>windowOuterHeight:0</th>\n",
       "      <th>screenAvailWidth:768</th>\n",
       "      <th>screenAvailHeight:1004</th>\n",
       "      <th>screenColorDepth:32</th>\n",
       "      <th>isoCenterX:325</th>\n",
       "      <th>isoCenterY:325}</th>\n",
       "    </tr>\n",
       "  </thead>\n",
       "  <tbody>\n",
       "  </tbody>\n",
       "</table>\n",
       "<p>0 rows × 21477 columns</p>\n",
       "</div>"
      ],
      "text/plain": [
       "Empty DataFrame\n",
       "Columns: [{\"taskName\":\"Pointing\", blockIndex:0, skipped:false, practice:false, startTime:1447707762272, endTime:1447707804683, numTrialsWithError:2, trials:[{\"index\":0, startTime:1447707762254, endTime:1447707763924, errors:0, mouseEvents:[], touchEvents:[{\"e\":\"touchstart\", t:1447707763263, fingers:[{\"pt\":{\"X\":215, Y:346}, id:623162811, isActiveTouch:true}]}, {\"e\":\"touchend\", t:1447707763427, fingers:[{\"pt\":{\"X\":215.1, Y:346}.1, id:623162811.1, isActiveTouch:true}]}.1, {\"e\":\"touchstart\", t:1447707763764, fingers:[{\"pt\":{\"X\":464, Y:352}, id:623162812, isActiveTouch:true}]}.2, {\"e\":\"touchend\".1, t:1447707763924, fingers:[{\"pt\":{\"X\":464.1, Y:352}.1, id:623162812.1, isActiveTouch:true}]}], keyboardEvents:[], taskEvents:[{\"e\":\"startAreaActive\", t:1447707763427}], motionEvents:[{\"t\":1447707762314, x:0.10833762740535893, y:-0.14230536345882575, z:-9.751433705946337}, {\"t\":1447707762318, x:0.10833762740535893.1, y:-0.14230536345882575.1, z:-9.751433705946337}.1, {\"t\":1447707762332, x:0.05955576629638672, y:-0.10339959333115256, z:-9.780163888406195}, {\"t\":1447707762350, x:0.03082535094108898, y:-0.11222819825324695, z:-9.790189863586425}, {\"t\":1447707762367, x:0.03082535094108898.1, y:-0.11222819825324695.1, z:-9.790189863586425}.1, {\"t\":1447707762382, x:-0.00613514175415039, y:-0.18719664230346678, z:-9.743054137133107}, {\"t\":1447707762425, x:0.1475426773071289, y:-0.1432031799482298, z:-9.8376251186923}, {\"t\":1447707762432, x:0.1475426773071289.1, y:-0.1432031799482298.1, z:-9.8376251186923}.1, {\"t\":1447707762449, x:0.1385644165149657, y:-0.19048867072782594, z:-9.780313642457674}, {\"t\":1447707762466, x:0.12958616028937975, y:-0.21891980516738258, z:-9.780613285274663}, {\"t\":1447707762483, x:0.0908300231988891, y:-0.20844517975406487, z:-9.752182167959772}, {\"t\":1447707762499, x:0.043843820184899955, y:-0.2359784965625731, z:-9.839121095154388}, {\"t\":1447707762516, x:0.08095394092262795, y:-0.18914192430247784, z:-9.800066017643573}, {\"t\":1447707762536, x:0.060902500163647344, y:-0.16041151237211307, z:-9.78061334235688}, {\"t\":1447707762549, x:0.0890343788036378, y:-0.13242927019423803, z:-9.751583106088079}, {\"t\":1447707762565, ...]\n",
       "Index: []\n",
       "\n",
       "[0 rows x 21477 columns]"
      ]
     },
     "execution_count": 25,
     "metadata": {},
     "output_type": "execute_result"
    }
   ],
   "source": [
    "a1"
   ]
  },
  {
   "cell_type": "code",
   "execution_count": 35,
   "id": "5864fa35-b6d0-46f9-bd05-b9f67b4d2125",
   "metadata": {},
   "outputs": [],
   "source": [
    "file_path = '/Users/ainsleymartinez/Downloads/alldata/userid299/pointing.json'\n",
    "a2 = pd.read_csv(file_path)"
   ]
  },
  {
   "cell_type": "code",
   "execution_count": 38,
   "id": "839c2f6e-202e-4c00-885d-3fb8418733c3",
   "metadata": {},
   "outputs": [],
   "source": [
    "file_path = '/Users/ainsleymartinez/Downloads/alldata/userid515/pointing.json'\n",
    "a3 = pd.read_csv(file_path)"
   ]
  },
  {
   "cell_type": "code",
   "execution_count": 39,
   "id": "830f53dc-cc72-4ce2-84f6-e8a96e822e93",
   "metadata": {},
   "outputs": [],
   "source": [
    "file_path = '/Users/ainsleymartinez/Downloads/alldata/d1/using2.json'\n",
    "d1 = pd.read_csv(file_path)"
   ]
  },
  {
   "cell_type": "code",
   "execution_count": 40,
   "id": "f2c1ca5f-fcdb-4dfd-98f9-00f354169631",
   "metadata": {},
   "outputs": [],
   "source": [
    "file_path = '/Users/ainsleymartinez/Downloads/alldata/d2/using3.json'\n",
    "d2 = pd.read_csv(file_path)"
   ]
  },
  {
   "cell_type": "code",
   "execution_count": 41,
   "id": "d1b65890-e969-458d-9f66-28decc69e7ea",
   "metadata": {},
   "outputs": [],
   "source": [
    "file_path = '/Users/ainsleymartinez/Downloads/alldata/d3/using4.json'\n",
    "d3 = pd.read_csv(file_path)"
   ]
  },
  {
   "cell_type": "code",
   "execution_count": 42,
   "id": "996b5b8a-5a86-43ec-a3fe-c4aacffc622f",
   "metadata": {},
   "outputs": [
    {
     "data": {
      "text/html": [
       "<div>\n",
       "<style scoped>\n",
       "    .dataframe tbody tr th:only-of-type {\n",
       "        vertical-align: middle;\n",
       "    }\n",
       "\n",
       "    .dataframe tbody tr th {\n",
       "        vertical-align: top;\n",
       "    }\n",
       "\n",
       "    .dataframe thead th {\n",
       "        text-align: right;\n",
       "    }\n",
       "</style>\n",
       "<table border=\"1\" class=\"dataframe\">\n",
       "  <thead>\n",
       "    <tr style=\"text-align: right;\">\n",
       "      <th></th>\n",
       "      <th>{\"taskName\":\"Pointing\"</th>\n",
       "      <th>blockIndex:0</th>\n",
       "      <th>skipped:false</th>\n",
       "      <th>practice:false</th>\n",
       "      <th>startTime:1441058083262</th>\n",
       "      <th>endTime:1441058126076</th>\n",
       "      <th>numTrialsWithError:0</th>\n",
       "      <th>trials:[{\"index\":0</th>\n",
       "      <th>startTime:1441058083260</th>\n",
       "      <th>endTime:1441058085126</th>\n",
       "      <th>...</th>\n",
       "      <th>windowScreenY:0</th>\n",
       "      <th>windowInnerWidth:2560</th>\n",
       "      <th>windowInnerHeight:1440</th>\n",
       "      <th>windowOuterWidth:2560</th>\n",
       "      <th>windowOuterHeight:1440</th>\n",
       "      <th>screenAvailWidth:2560</th>\n",
       "      <th>screenAvailHeight:1440</th>\n",
       "      <th>screenColorDepth:24</th>\n",
       "      <th>isoCenterX:325</th>\n",
       "      <th>isoCenterY:325}</th>\n",
       "    </tr>\n",
       "  </thead>\n",
       "  <tbody>\n",
       "  </tbody>\n",
       "</table>\n",
       "<p>0 rows × 7121 columns</p>\n",
       "</div>"
      ],
      "text/plain": [
       "Empty DataFrame\n",
       "Columns: [{\"taskName\":\"Pointing\", blockIndex:0, skipped:false, practice:false, startTime:1441058083262, endTime:1441058126076, numTrialsWithError:0, trials:[{\"index\":0, startTime:1441058083260, endTime:1441058085126, errors:0, mouseEvents:[{\"e\":\"mouseenter\", t:1441058083573, p:{\"X\":250, Y:208}}, {\"e\":\"mousemove\", t:1441058083573.1, p:{\"X\":250.1, Y:208}}.1, {\"e\":\"mousemove\".1, t:1441058083590, p:{\"X\":247, Y:236}}, {\"e\":\"mousemove\".2, t:1441058083607, p:{\"X\":244, Y:262}}, {\"e\":\"mousemove\".3, t:1441058083624, p:{\"X\":244.1, Y:293}}, {\"e\":\"mousemove\".4, t:1441058083642, p:{\"X\":245, Y:320}}, {\"e\":\"mousemove\".5, t:1441058083660, p:{\"X\":248, Y:342}}, {\"e\":\"mousemove\".6, t:1441058083677, p:{\"X\":251, Y:365}}, {\"e\":\"mousemove\".7, t:1441058083694, p:{\"X\":257, Y:385}}, {\"e\":\"mousemove\".8, t:1441058083711, p:{\"X\":261, Y:399}}, {\"e\":\"mousemove\".9, t:1441058083729, p:{\"X\":262, Y:415}}, {\"e\":\"mousemove\".10, t:1441058083748, p:{\"X\":263, Y:428}}, {\"e\":\"mousemove\".11, t:1441058083764, p:{\"X\":266, Y:437}}, {\"e\":\"mousemove\".12, t:1441058083781, p:{\"X\":268, Y:442}}, {\"e\":\"mousemove\".13, t:1441058083798, p:{\"X\":269, Y:442}}.1, {\"e\":\"mousemove\".14, t:1441058083877, p:{\"X\":269.1, Y:443}}, {\"e\":\"mousemove\".15, t:1441058083894, p:{\"X\":270, Y:451}}, {\"e\":\"mousemove\".16, t:1441058083911, p:{\"X\":273, Y:464}}, {\"e\":\"mousemove\".17, t:1441058083929, p:{\"X\":276, Y:480}}, {\"e\":\"mousemove\".18, t:1441058083946, p:{\"X\":276.1, Y:491}}, {\"e\":\"mousemove\".19, t:1441058083965, p:{\"X\":276.2, Y:500}}, {\"e\":\"mousemove\".20, t:1441058084023, p:{\"X\":276.3, Y:512}}, {\"e\":\"mousemove\".21, ...]\n",
       "Index: []\n",
       "\n",
       "[0 rows x 7121 columns]"
      ]
     },
     "execution_count": 42,
     "metadata": {},
     "output_type": "execute_result"
    }
   ],
   "source": [
    "a2"
   ]
  },
  {
   "cell_type": "code",
   "execution_count": 44,
   "id": "0cacfbe0-bde1-419a-968a-eab9b1722070",
   "metadata": {},
   "outputs": [
    {
     "data": {
      "text/html": [
       "<div>\n",
       "<style scoped>\n",
       "    .dataframe tbody tr th:only-of-type {\n",
       "        vertical-align: middle;\n",
       "    }\n",
       "\n",
       "    .dataframe tbody tr th {\n",
       "        vertical-align: top;\n",
       "    }\n",
       "\n",
       "    .dataframe thead th {\n",
       "        text-align: right;\n",
       "    }\n",
       "</style>\n",
       "<table border=\"1\" class=\"dataframe\">\n",
       "  <thead>\n",
       "    <tr style=\"text-align: right;\">\n",
       "      <th></th>\n",
       "      <th>{\"taskName\":\"Pointing\"</th>\n",
       "      <th>blockIndex:0</th>\n",
       "      <th>skipped:false</th>\n",
       "      <th>practice:false</th>\n",
       "      <th>startTime:1447427361750</th>\n",
       "      <th>endTime:1447427400498</th>\n",
       "      <th>numTrialsWithError:2</th>\n",
       "      <th>trials:[{\"index\":0</th>\n",
       "      <th>startTime:1447427361732</th>\n",
       "      <th>endTime:1447427363138</th>\n",
       "      <th>...</th>\n",
       "      <th>windowScreenY:0</th>\n",
       "      <th>windowInnerWidth:768</th>\n",
       "      <th>windowInnerHeight:960</th>\n",
       "      <th>windowOuterWidth:0</th>\n",
       "      <th>windowOuterHeight:0</th>\n",
       "      <th>screenAvailWidth:768</th>\n",
       "      <th>screenAvailHeight:1004</th>\n",
       "      <th>screenColorDepth:32</th>\n",
       "      <th>isoCenterX:325</th>\n",
       "      <th>isoCenterY:325}</th>\n",
       "    </tr>\n",
       "  </thead>\n",
       "  <tbody>\n",
       "  </tbody>\n",
       "</table>\n",
       "<p>0 rows × 19759 columns</p>\n",
       "</div>"
      ],
      "text/plain": [
       "Empty DataFrame\n",
       "Columns: [{\"taskName\":\"Pointing\", blockIndex:0, skipped:false, practice:false, startTime:1447427361750, endTime:1447427400498, numTrialsWithError:2, trials:[{\"index\":0, startTime:1447427361732, endTime:1447427363138, errors:0, mouseEvents:[], touchEvents:[{\"e\":\"touchstart\", t:1447427362500, fingers:[{\"pt\":{\"X\":487, Y:103}, id:623159749, isActiveTouch:true}]}, {\"e\":\"touchend\", t:1447427362627, fingers:[{\"pt\":{\"X\":487.1, Y:103}.1, id:623159749.1, isActiveTouch:true}]}.1, {\"e\":\"touchstart\", t:1447427363013, fingers:[{\"pt\":{\"X\":136, Y:493}, id:623159750, isActiveTouch:true}]}.2, {\"e\":\"touchend\".1, t:1447427363138, fingers:[{\"pt\":{\"X\":136.1, Y:493}.1, id:623159750.1, isActiveTouch:true}]}], keyboardEvents:[], taskEvents:[{\"e\":\"startAreaActive\", t:1447427362627}], motionEvents:[{\"t\":1447427361782, x:0.12868834608326432, y:-0.19033903883228775, z:-9.74215594161779}, {\"t\":1447427361805, x:0.13826513902415755, y:-0.20006547736845096, z:-9.713276080454978}, {\"t\":1447427361814, x:0.17687164878568729, y:-0.21039047659445204, z:-9.70354969100952}, {\"t\":1447427361831, x:0.12988543778018793, y:-0.2567781371849123, z:-9.704148067894623}, {\"t\":1447427361846, x:0.15801731770452823, y:-0.21951837156544204, z:-9.71342549886303}, {\"t\":1447427361864, x:0.15801731770452823.1, y:-0.21951837156544204.1, z:-9.71342549886303}.1, {\"t\":1447427361881, x:0.17627308923749369, y:-0.1819593193220091, z:-9.712977051842632}, {\"t\":1447427361899, x:0.18644845428466797, y:-0.21068975351443803, z:-9.703400217802542}, {\"t\":1447427361913, x:0.18644845428466797.1, y:-0.21068975351443803.1, z:-9.703400217802542}.1, {\"t\":1447427361930, x:0.20605097581061999, y:-0.2111386549092742, z:-9.73213053269314}, {\"t\":1447427361948, x:0.15771804292512534, y:-0.21951836357393184, z:-9.674969036555568}, {\"t\":1447427361965, x:0.16699557492905295, y:-0.19123685646333613, z:-9.713126753378473}, {\"t\":1447427361980, x:0.17567453768081032, y:-0.162955355060962, z:-9.703100723399315}, {\"t\":1447427361996, x:0.17761983452119748, y:-0.22939445113029797, z:-9.742156243011891}, {\"t\":1447427362013, x:0.15876550244109966, y:-0.22894552918586414, z:-9.780613070645533}, {\"t\":1447427362029, ...]\n",
       "Index: []\n",
       "\n",
       "[0 rows x 19759 columns]"
      ]
     },
     "execution_count": 44,
     "metadata": {},
     "output_type": "execute_result"
    }
   ],
   "source": [
    "a3"
   ]
  },
  {
   "cell_type": "code",
   "execution_count": 45,
   "id": "4fe4dfe9-c03c-4860-a8ed-94f01d64d433",
   "metadata": {},
   "outputs": [
    {
     "data": {
      "text/html": [
       "<div>\n",
       "<style scoped>\n",
       "    .dataframe tbody tr th:only-of-type {\n",
       "        vertical-align: middle;\n",
       "    }\n",
       "\n",
       "    .dataframe tbody tr th {\n",
       "        vertical-align: top;\n",
       "    }\n",
       "\n",
       "    .dataframe thead th {\n",
       "        text-align: right;\n",
       "    }\n",
       "</style>\n",
       "<table border=\"1\" class=\"dataframe\">\n",
       "  <thead>\n",
       "    <tr style=\"text-align: right;\">\n",
       "      <th></th>\n",
       "      <th>{\"taskName\":\"Pointing\"</th>\n",
       "      <th>blockIndex:0</th>\n",
       "      <th>skipped:false</th>\n",
       "      <th>practice:false</th>\n",
       "      <th>startTime:1449835921131</th>\n",
       "      <th>endTime:1449835987355</th>\n",
       "      <th>numTrialsWithError:0</th>\n",
       "      <th>trials:[{\"index\":0</th>\n",
       "      <th>startTime:1449835921127</th>\n",
       "      <th>endTime:1449835923427</th>\n",
       "      <th>...</th>\n",
       "      <th>windowScreenY:0</th>\n",
       "      <th>windowInnerWidth:1600</th>\n",
       "      <th>windowInnerHeight:862</th>\n",
       "      <th>windowOuterWidth:1600</th>\n",
       "      <th>windowOuterHeight:900</th>\n",
       "      <th>screenAvailWidth:1600</th>\n",
       "      <th>screenAvailHeight:860</th>\n",
       "      <th>screenColorDepth:24</th>\n",
       "      <th>isoCenterX:325</th>\n",
       "      <th>isoCenterY:325}</th>\n",
       "    </tr>\n",
       "  </thead>\n",
       "  <tbody>\n",
       "  </tbody>\n",
       "</table>\n",
       "<p>0 rows × 17762 columns</p>\n",
       "</div>"
      ],
      "text/plain": [
       "Empty DataFrame\n",
       "Columns: [{\"taskName\":\"Pointing\", blockIndex:0, skipped:false, practice:false, startTime:1449835921131, endTime:1449835987355, numTrialsWithError:0, trials:[{\"index\":0, startTime:1449835921127, endTime:1449835923427, errors:0, mouseEvents:[{\"e\":\"mouseenter\", t:1449835921478, p:{\"X\":303.5, Y:131}}, {\"e\":\"mousemove\", t:1449835921479, p:{\"X\":303.5.1, Y:131}}.1, {\"e\":\"mousemove\".1, t:1449835921492, p:{\"X\":303.5.2, Y:132}}, {\"e\":\"mousemove\".2, t:1449835921505, p:{\"X\":303.5.3, Y:133}}, {\"e\":\"mousemove\".3, t:1449835921520, p:{\"X\":304.5, Y:133}}.1, {\"e\":\"mousemove\".4, t:1449835921523, p:{\"X\":304.5.1, Y:134}}, {\"e\":\"mousemove\".5, t:1449835921537, p:{\"X\":304.5.2, Y:135}}, {\"e\":\"mousemove\".6, t:1449835921547, p:{\"X\":304.5.3, Y:136}}, {\"e\":\"mousemove\".7, t:1449835921555, p:{\"X\":304.5.4, Y:137}}, {\"e\":\"mousemove\".8, t:1449835921564, p:{\"X\":304.5.5, Y:138}}, {\"e\":\"mousemove\".9, t:1449835921580, p:{\"X\":304.5.6, Y:139}}, {\"e\":\"mousemove\".10, t:1449835921588, p:{\"X\":304.5.7, Y:142}}, {\"e\":\"mousemove\".11, t:1449835921605, p:{\"X\":304.5.8, Y:144}}, {\"e\":\"mousemove\".12, t:1449835921611, p:{\"X\":304.5.9, Y:145}}, {\"e\":\"mousemove\".13, t:1449835921622, p:{\"X\":304.5.10, Y:147}}, {\"e\":\"mousemove\".14, t:1449835921628, p:{\"X\":304.5.11, Y:150}}, {\"e\":\"mousemove\".15, t:1449835921637, p:{\"X\":305.5, Y:153}}, {\"e\":\"mousemove\".16, t:1449835921655, p:{\"X\":307.5, Y:161}}, {\"e\":\"mousemove\".17, t:1449835921660, p:{\"X\":308.5, Y:167}}, {\"e\":\"mousemove\".18, t:1449835921671, p:{\"X\":308.5.1, Y:171}}, {\"e\":\"mousemove\".19, t:1449835921675, p:{\"X\":308.5.2, Y:178}}, {\"e\":\"mousemove\".20, t:1449835921688, p:{\"X\":310.5, Y:184}}, {\"e\":\"mousemove\".21, ...]\n",
       "Index: []\n",
       "\n",
       "[0 rows x 17762 columns]"
      ]
     },
     "execution_count": 45,
     "metadata": {},
     "output_type": "execute_result"
    }
   ],
   "source": [
    "d1"
   ]
  },
  {
   "cell_type": "code",
   "execution_count": 46,
   "id": "1c19c5ab-2c09-485f-8b45-fe6ee809251b",
   "metadata": {},
   "outputs": [
    {
     "data": {
      "text/html": [
       "<div>\n",
       "<style scoped>\n",
       "    .dataframe tbody tr th:only-of-type {\n",
       "        vertical-align: middle;\n",
       "    }\n",
       "\n",
       "    .dataframe tbody tr th {\n",
       "        vertical-align: top;\n",
       "    }\n",
       "\n",
       "    .dataframe thead th {\n",
       "        text-align: right;\n",
       "    }\n",
       "</style>\n",
       "<table border=\"1\" class=\"dataframe\">\n",
       "  <thead>\n",
       "    <tr style=\"text-align: right;\">\n",
       "      <th></th>\n",
       "      <th>{\"taskName\":\"Pointing\"</th>\n",
       "      <th>blockIndex:0</th>\n",
       "      <th>skipped:false</th>\n",
       "      <th>practice:false</th>\n",
       "      <th>startTime:1449933193690</th>\n",
       "      <th>endTime:1449933266169</th>\n",
       "      <th>numTrialsWithError:1</th>\n",
       "      <th>trials:[{\"index\":0</th>\n",
       "      <th>startTime:1449933193684</th>\n",
       "      <th>endTime:1449933197198</th>\n",
       "      <th>...</th>\n",
       "      <th>windowScreenY:0</th>\n",
       "      <th>windowInnerWidth:1280</th>\n",
       "      <th>windowInnerHeight:1024</th>\n",
       "      <th>windowOuterWidth:1280</th>\n",
       "      <th>windowOuterHeight:1024</th>\n",
       "      <th>screenAvailWidth:1280</th>\n",
       "      <th>screenAvailHeight:994</th>\n",
       "      <th>screenColorDepth:24</th>\n",
       "      <th>isoCenterX:325</th>\n",
       "      <th>isoCenterY:325}</th>\n",
       "    </tr>\n",
       "  </thead>\n",
       "  <tbody>\n",
       "  </tbody>\n",
       "</table>\n",
       "<p>0 rows × 17269 columns</p>\n",
       "</div>"
      ],
      "text/plain": [
       "Empty DataFrame\n",
       "Columns: [{\"taskName\":\"Pointing\", blockIndex:0, skipped:false, practice:false, startTime:1449933193690, endTime:1449933266169, numTrialsWithError:1, trials:[{\"index\":0, startTime:1449933193684, endTime:1449933197198, errors:0, mouseEvents:[{\"e\":\"mousemove\", t:1449933194099, p:{\"X\":264, Y:116}}, {\"e\":\"mouseenter\", t:1449933194102, p:{\"X\":264.1, Y:116}}.1, {\"e\":\"mousemove\", t:1449933194143, p:{\"X\":264.2, Y:117}}, {\"e\":\"mousemove\".1, t:1449933194550, p:{\"X\":265, Y:117}}.1, {\"e\":\"mousemove\".2, t:1449933194558, p:{\"X\":266, Y:115}}, {\"e\":\"mousemove\".3, t:1449933194568, p:{\"X\":268, Y:115}}.1, {\"e\":\"mousemove\".4, t:1449933194574, p:{\"X\":271, Y:113}}, {\"e\":\"mousemove\".5, t:1449933194583, p:{\"X\":273, Y:111}}, {\"e\":\"mousemove\".6, t:1449933194590, p:{\"X\":276, Y:109}}, {\"e\":\"mousemove\".7, t:1449933194599, p:{\"X\":278, Y:109}}.1, {\"e\":\"mousemove\".8, t:1449933194606, p:{\"X\":280, Y:106}}, {\"e\":\"mousemove\".9, t:1449933194616, p:{\"X\":282, Y:104}}, {\"e\":\"mousemove\".10, t:1449933194622, p:{\"X\":285, Y:101}}, {\"e\":\"mousemove\".11, t:1449933194632, p:{\"X\":287, Y:98}}, {\"e\":\"mousemove\".12, t:1449933194638, p:{\"X\":290, Y:95}}, {\"e\":\"mousemove\".13, t:1449933194649, p:{\"X\":294, Y:92}}, {\"e\":\"mousemove\".14, t:1449933194654, p:{\"X\":298, Y:89}}, {\"e\":\"mousemove\".15, t:1449933194666, p:{\"X\":303, Y:86}}, {\"e\":\"mousemove\".16, t:1449933194670, p:{\"X\":309, Y:84}}, {\"e\":\"mousemove\".17, t:1449933194683, p:{\"X\":314, Y:82}}, {\"e\":\"mousemove\".18, t:1449933194686, p:{\"X\":320, Y:79}}, {\"e\":\"mousemove\".19, t:1449933194698, p:{\"X\":327, Y:77}}, {\"e\":\"mousemove\".20, ...]\n",
       "Index: []\n",
       "\n",
       "[0 rows x 17269 columns]"
      ]
     },
     "execution_count": 46,
     "metadata": {},
     "output_type": "execute_result"
    }
   ],
   "source": [
    "d2"
   ]
  },
  {
   "cell_type": "code",
   "execution_count": 47,
   "id": "a2480b44-0d83-43b0-810e-b456708c9938",
   "metadata": {},
   "outputs": [
    {
     "data": {
      "text/html": [
       "<div>\n",
       "<style scoped>\n",
       "    .dataframe tbody tr th:only-of-type {\n",
       "        vertical-align: middle;\n",
       "    }\n",
       "\n",
       "    .dataframe tbody tr th {\n",
       "        vertical-align: top;\n",
       "    }\n",
       "\n",
       "    .dataframe thead th {\n",
       "        text-align: right;\n",
       "    }\n",
       "</style>\n",
       "<table border=\"1\" class=\"dataframe\">\n",
       "  <thead>\n",
       "    <tr style=\"text-align: right;\">\n",
       "      <th></th>\n",
       "      <th>{\"taskName\":\"Pointing\"</th>\n",
       "      <th>blockIndex:1</th>\n",
       "      <th>skipped:false</th>\n",
       "      <th>practice:false</th>\n",
       "      <th>startTime:1449769328139</th>\n",
       "      <th>endTime:1449769408979</th>\n",
       "      <th>numTrialsWithError:2</th>\n",
       "      <th>trials:[{\"index\":0</th>\n",
       "      <th>startTime:1449769328135</th>\n",
       "      <th>endTime:1449769331295</th>\n",
       "      <th>...</th>\n",
       "      <th>windowScreenY:0</th>\n",
       "      <th>windowInnerWidth:1366</th>\n",
       "      <th>windowInnerHeight:768</th>\n",
       "      <th>windowOuterWidth:1366</th>\n",
       "      <th>windowOuterHeight:768</th>\n",
       "      <th>screenAvailWidth:1366</th>\n",
       "      <th>screenAvailHeight:728</th>\n",
       "      <th>screenColorDepth:24</th>\n",
       "      <th>isoCenterX:325</th>\n",
       "      <th>isoCenterY:325}</th>\n",
       "    </tr>\n",
       "  </thead>\n",
       "  <tbody>\n",
       "  </tbody>\n",
       "</table>\n",
       "<p>0 rows × 21949 columns</p>\n",
       "</div>"
      ],
      "text/plain": [
       "Empty DataFrame\n",
       "Columns: [{\"taskName\":\"Pointing\", blockIndex:1, skipped:false, practice:false, startTime:1449769328139, endTime:1449769408979, numTrialsWithError:2, trials:[{\"index\":0, startTime:1449769328135, endTime:1449769331295, errors:0, mouseEvents:[{\"e\":\"mouseenter\", t:1449769328502, p:{\"X\":576, Y:225}}, {\"e\":\"mousemove\", t:1449769328732, p:{\"X\":573, Y:225}}.1, {\"e\":\"mousemove\".1, t:1449769328740, p:{\"X\":569, Y:225}}.2, {\"e\":\"mousemove\".2, t:1449769328748, p:{\"X\":566, Y:225}}.3, {\"e\":\"mousemove\".3, t:1449769328756, p:{\"X\":560, Y:225}}.4, {\"e\":\"mousemove\".4, t:1449769328764, p:{\"X\":555, Y:226}}, {\"e\":\"mousemove\".5, t:1449769328773, p:{\"X\":548, Y:227}}, {\"e\":\"mousemove\".6, t:1449769328780, p:{\"X\":540, Y:229}}, {\"e\":\"mousemove\".7, t:1449769328789, p:{\"X\":533, Y:230}}, {\"e\":\"mousemove\".8, t:1449769328796, p:{\"X\":524, Y:231}}, {\"e\":\"mousemove\".9, t:1449769328805, p:{\"X\":516, Y:231}}.1, {\"e\":\"mousemove\".10, t:1449769328812, p:{\"X\":509, Y:231}}.2, {\"e\":\"mousemove\".11, t:1449769328822, p:{\"X\":502, Y:231}}.3, {\"e\":\"mousemove\".12, t:1449769328828, p:{\"X\":495, Y:231}}.4, {\"e\":\"mousemove\".13, t:1449769328838, p:{\"X\":488, Y:231}}.5, {\"e\":\"mousemove\".14, t:1449769328844, p:{\"X\":481, Y:231}}.6, {\"e\":\"mousemove\".15, t:1449769328855, p:{\"X\":476, Y:231}}.7, {\"e\":\"mousemove\".16, t:1449769328860, p:{\"X\":469, Y:231}}.8, {\"e\":\"mousemove\".17, t:1449769328871, p:{\"X\":465, Y:231}}.9, {\"e\":\"mousemove\".18, t:1449769328876, p:{\"X\":460, Y:231}}.10, {\"e\":\"mousemove\".19, t:1449769328888, p:{\"X\":456, Y:231}}.11, {\"e\":\"mousemove\".20, t:1449769328892, p:{\"X\":453, Y:231}}.12, {\"e\":\"mousemove\".21, ...]\n",
       "Index: []\n",
       "\n",
       "[0 rows x 21949 columns]"
      ]
     },
     "execution_count": 47,
     "metadata": {},
     "output_type": "execute_result"
    }
   ],
   "source": [
    "d3"
   ]
  },
  {
   "cell_type": "code",
   "execution_count": 48,
   "id": "42cc589c-7e9b-489b-bd2c-baaf0ed50d2b",
   "metadata": {},
   "outputs": [
    {
     "data": {
      "text/plain": [
       "73181.0"
      ]
     },
     "execution_count": 48,
     "metadata": {},
     "output_type": "execute_result"
    }
   ],
   "source": [
    "# Calculating the average duration for the disability trials\n",
    "\n",
    "# Durations of the trials in milliseconds\n",
    "durations = [\n",
    "    1449835987355 - 1449835921131, \n",
    "    1449933266169 - 1449933193690, \n",
    "    1449769408979 - 1449769328139  \n",
    "]\n",
    "\n",
    "average_duration = sum(durations) / len(durations)\n",
    "average_duration"
   ]
  },
  {
   "cell_type": "code",
   "execution_count": 49,
   "id": "f490fbaa-64e4-485f-99ca-7fcb11a888ff",
   "metadata": {},
   "outputs": [
    {
     "data": {
      "text/plain": [
       "41324.333333333336"
      ]
     },
     "execution_count": 49,
     "metadata": {},
     "output_type": "execute_result"
    }
   ],
   "source": [
    "# Calculating the average duration for the abled-bodied trials\n",
    "\n",
    "# Durations of the trials in milliseconds\n",
    "durations = [\n",
    "1447707804683 - 1447707762272,\n",
    "1441058126076 - 1441058083262,\n",
    "1447427400498 - 1447427361750\n",
    "]\n",
    "\n",
    "average_duration = sum(durations) / len(durations)\n",
    "average_duration"
   ]
  },
  {
   "cell_type": "code",
   "execution_count": null,
   "id": "064dc3f8-cb8b-4e84-90c4-990f28a4aa61",
   "metadata": {},
   "outputs": [],
   "source": []
  }
 ],
 "metadata": {
  "kernelspec": {
   "display_name": "Python 3 (ipykernel)",
   "language": "python",
   "name": "python3"
  },
  "language_info": {
   "codemirror_mode": {
    "name": "ipython",
    "version": 3
   },
   "file_extension": ".py",
   "mimetype": "text/x-python",
   "name": "python",
   "nbconvert_exporter": "python",
   "pygments_lexer": "ipython3",
   "version": "3.11.8"
  }
 },
 "nbformat": 4,
 "nbformat_minor": 5
}
